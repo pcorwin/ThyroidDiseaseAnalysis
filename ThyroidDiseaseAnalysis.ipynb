{
 "cells": [
  {
   "cell_type": "markdown",
   "id": "cacff9f0",
   "metadata": {},
   "source": [
    "# Thyroid Disease Analysis\n",
    "\n",
    "## Anomalous Value Detection"
   ]
  },
  {
   "cell_type": "markdown",
   "id": "cdeb52b3",
   "metadata": {},
   "source": [
    "This algorithm uses anomalous data detection to determine if any values deviate significantly from expected patterns. This method, using the Isolation Forest model, is of particular use to this example as it can indicate risk factors for thyroid disease in humans when applied to a sufficient dataset."
   ]
  },
  {
   "cell_type": "markdown",
   "id": "fa4eaef4",
   "metadata": {},
   "source": [
    "#### Importing toolkits"
   ]
  },
  {
   "cell_type": "code",
   "execution_count": 14,
   "id": "c61ab484",
   "metadata": {},
   "outputs": [],
   "source": [
    "import numpy as np\n",
    "import pandas as pd\n",
    "import matplotlib.pyplot as plt\n",
    "\n",
    "from sklearn.ensemble import IsolationForest\n",
    "from sklearn.model_selection import train_test_split\n",
    "from sklearn.preprocessing import StandardScaler"
   ]
  },
  {
   "cell_type": "markdown",
   "id": "5e4c5c07",
   "metadata": {},
   "source": [
    "#### Importing and transforming data \n",
    "\n",
    "- Reading in the data\n",
    "- Removing missing values\n",
    "- Converting categorical variables to numerical"
   ]
  },
  {
   "cell_type": "code",
   "execution_count": 19,
   "id": "6c21fcb5",
   "metadata": {},
   "outputs": [
    {
     "name": "stdout",
     "output_type": "stream",
     "text": [
      "Index(['Age', 'Sex', 'on_thyroxine', 'query_on_thyroxine',\n",
      "       'on_antithyroid_medication', 'sick', 'pregnant', 'thyroid_surgery',\n",
      "       'I131_treatment', 'query_hypothyroid', 'query_hyperthyroid', 'lithium',\n",
      "       'goitre', 'tumor', 'hypopituitary', 'psych', 'TSH', 'T3_measured',\n",
      "       'TT4_measured', 'T4U_measured', 'FTI_measured', 'Outlier_label _n',\n",
      "       'Outlier_label _o'],\n",
      "      dtype='object')\n"
     ]
    }
   ],
   "source": [
    "data = pd.read_csv(\"Data\\\\thyroid_dataset.csv\")\n",
    "\n",
    "data.dropna(inplace=True)\n",
    "\n",
    "data = pd.get_dummies(data)\n",
    "\n",
    "print(data.columns)"
   ]
  },
  {
   "cell_type": "markdown",
   "id": "1da0c002",
   "metadata": {},
   "source": [
    "#### Preparing for Training/Testing\n",
    "\n",
    "- Normalizing numeric features\n",
    "- Splitting dataset into training and testing portions"
   ]
  },
  {
   "cell_type": "code",
   "execution_count": 16,
   "id": "6d17555b",
   "metadata": {
    "scrolled": true
   },
   "outputs": [],
   "source": [
    "scaler = StandardScaler()\n",
    "data_scaled = scaler.fit_transform(data)\n",
    "\n",
    "X_train, X_test = train_test_split(data_scaled, test_size=0.2, random_state=42)"
   ]
  },
  {
   "cell_type": "markdown",
   "id": "74b17db4",
   "metadata": {},
   "source": [
    "#### Train Isolation Forest Model"
   ]
  },
  {
   "cell_type": "code",
   "execution_count": 17,
   "id": "6c84f0fe",
   "metadata": {},
   "outputs": [
    {
     "data": {
      "text/html": [
       "<style>#sk-container-id-2 {color: black;background-color: white;}#sk-container-id-2 pre{padding: 0;}#sk-container-id-2 div.sk-toggleable {background-color: white;}#sk-container-id-2 label.sk-toggleable__label {cursor: pointer;display: block;width: 100%;margin-bottom: 0;padding: 0.3em;box-sizing: border-box;text-align: center;}#sk-container-id-2 label.sk-toggleable__label-arrow:before {content: \"▸\";float: left;margin-right: 0.25em;color: #696969;}#sk-container-id-2 label.sk-toggleable__label-arrow:hover:before {color: black;}#sk-container-id-2 div.sk-estimator:hover label.sk-toggleable__label-arrow:before {color: black;}#sk-container-id-2 div.sk-toggleable__content {max-height: 0;max-width: 0;overflow: hidden;text-align: left;background-color: #f0f8ff;}#sk-container-id-2 div.sk-toggleable__content pre {margin: 0.2em;color: black;border-radius: 0.25em;background-color: #f0f8ff;}#sk-container-id-2 input.sk-toggleable__control:checked~div.sk-toggleable__content {max-height: 200px;max-width: 100%;overflow: auto;}#sk-container-id-2 input.sk-toggleable__control:checked~label.sk-toggleable__label-arrow:before {content: \"▾\";}#sk-container-id-2 div.sk-estimator input.sk-toggleable__control:checked~label.sk-toggleable__label {background-color: #d4ebff;}#sk-container-id-2 div.sk-label input.sk-toggleable__control:checked~label.sk-toggleable__label {background-color: #d4ebff;}#sk-container-id-2 input.sk-hidden--visually {border: 0;clip: rect(1px 1px 1px 1px);clip: rect(1px, 1px, 1px, 1px);height: 1px;margin: -1px;overflow: hidden;padding: 0;position: absolute;width: 1px;}#sk-container-id-2 div.sk-estimator {font-family: monospace;background-color: #f0f8ff;border: 1px dotted black;border-radius: 0.25em;box-sizing: border-box;margin-bottom: 0.5em;}#sk-container-id-2 div.sk-estimator:hover {background-color: #d4ebff;}#sk-container-id-2 div.sk-parallel-item::after {content: \"\";width: 100%;border-bottom: 1px solid gray;flex-grow: 1;}#sk-container-id-2 div.sk-label:hover label.sk-toggleable__label {background-color: #d4ebff;}#sk-container-id-2 div.sk-serial::before {content: \"\";position: absolute;border-left: 1px solid gray;box-sizing: border-box;top: 0;bottom: 0;left: 50%;z-index: 0;}#sk-container-id-2 div.sk-serial {display: flex;flex-direction: column;align-items: center;background-color: white;padding-right: 0.2em;padding-left: 0.2em;position: relative;}#sk-container-id-2 div.sk-item {position: relative;z-index: 1;}#sk-container-id-2 div.sk-parallel {display: flex;align-items: stretch;justify-content: center;background-color: white;position: relative;}#sk-container-id-2 div.sk-item::before, #sk-container-id-2 div.sk-parallel-item::before {content: \"\";position: absolute;border-left: 1px solid gray;box-sizing: border-box;top: 0;bottom: 0;left: 50%;z-index: -1;}#sk-container-id-2 div.sk-parallel-item {display: flex;flex-direction: column;z-index: 1;position: relative;background-color: white;}#sk-container-id-2 div.sk-parallel-item:first-child::after {align-self: flex-end;width: 50%;}#sk-container-id-2 div.sk-parallel-item:last-child::after {align-self: flex-start;width: 50%;}#sk-container-id-2 div.sk-parallel-item:only-child::after {width: 0;}#sk-container-id-2 div.sk-dashed-wrapped {border: 1px dashed gray;margin: 0 0.4em 0.5em 0.4em;box-sizing: border-box;padding-bottom: 0.4em;background-color: white;}#sk-container-id-2 div.sk-label label {font-family: monospace;font-weight: bold;display: inline-block;line-height: 1.2em;}#sk-container-id-2 div.sk-label-container {text-align: center;}#sk-container-id-2 div.sk-container {/* jupyter's `normalize.less` sets `[hidden] { display: none; }` but bootstrap.min.css set `[hidden] { display: none !important; }` so we also need the `!important` here to be able to override the default hidden behavior on the sphinx rendered scikit-learn.org. See: https://github.com/scikit-learn/scikit-learn/issues/21755 */display: inline-block !important;position: relative;}#sk-container-id-2 div.sk-text-repr-fallback {display: none;}</style><div id=\"sk-container-id-2\" class=\"sk-top-container\"><div class=\"sk-text-repr-fallback\"><pre>IsolationForest(contamination=0.05)</pre><b>In a Jupyter environment, please rerun this cell to show the HTML representation or trust the notebook. <br />On GitHub, the HTML representation is unable to render, please try loading this page with nbviewer.org.</b></div><div class=\"sk-container\" hidden><div class=\"sk-item\"><div class=\"sk-estimator sk-toggleable\"><input class=\"sk-toggleable__control sk-hidden--visually\" id=\"sk-estimator-id-2\" type=\"checkbox\" checked><label for=\"sk-estimator-id-2\" class=\"sk-toggleable__label sk-toggleable__label-arrow\">IsolationForest</label><div class=\"sk-toggleable__content\"><pre>IsolationForest(contamination=0.05)</pre></div></div></div></div></div>"
      ],
      "text/plain": [
       "IsolationForest(contamination=0.05)"
      ]
     },
     "execution_count": 17,
     "metadata": {},
     "output_type": "execute_result"
    }
   ],
   "source": [
    "model = IsolationForest(contamination=0.05)  # Adjust the contamination parameter\n",
    "model.fit(X_train)"
   ]
  },
  {
   "cell_type": "markdown",
   "id": "849ce0cb",
   "metadata": {},
   "source": [
    "#### Anomaly Prediction\n",
    "\n",
    "The model predicts anomalies in the test dataset\n",
    "\n",
    " - Anomalies are detected as -1, normal data as 1"
   ]
  },
  {
   "cell_type": "code",
   "execution_count": 18,
   "id": "6ff21148",
   "metadata": {},
   "outputs": [],
   "source": [
    "anomalies = model.predict(X_test)\n",
    "\n",
    "anomaly_indices = np.where(anomalies == -1)[0]\n",
    "anomalous_samples = X_test[anomaly_indices]"
   ]
  },
  {
   "cell_type": "markdown",
   "id": "f666671d",
   "metadata": {},
   "source": [
    "#### Plotting\n",
    "\n",
    "Anomalous datapoints depicted in red\n"
   ]
  },
  {
   "cell_type": "code",
   "execution_count": 26,
   "id": "6979bc9f",
   "metadata": {},
   "outputs": [
    {
     "data": {
      "image/png": "[encoded data removed]",
      "text/plain": [
       "<Figure size 1000x600 with 1 Axes>"
      ]
     },
     "metadata": {},
     "output_type": "display_data"
    }
   ],
   "source": [
    "feature_index = 0\n",
    "\n",
    "# Get the values of the selected feature for normal and anomalous data\n",
    "feature_values_normal = X_test[:, feature_index][anomalies == 1]\n",
    "feature_values_anomalies = X_test[:, feature_index][anomalies == -1]\n",
    "\n",
    "# Create a histogram to visualize the distribution of the selected feature\n",
    "plt.figure(figsize=(10, 6))\n",
    "plt.hist(feature_values_normal, bins=50, color='blue', alpha=0.5, label='Normal Data')\n",
    "plt.hist(feature_values_anomalies, bins=20, color='red', alpha=0.7, label='Anomalies')\n",
    "plt.title('Anomaly Detection Results for Feature {}'.format(feature_index))\n",
    "plt.xlabel('Feature {}'.format(feature_index))\n",
    "plt.ylabel('Frequency')\n",
    "plt.legend()\n",
    "plt.show()"
   ]
  },
  {
   "cell_type": "code",
   "execution_count": 21,
   "id": "18feb907",
   "metadata": {},
   "outputs": [
    {
     "name": "stdout",
     "output_type": "stream",
     "text": [
      "Anomalous Data:\n",
      "         Age       Sex  on_thyroxine  query_on_thyroxine  \\\n",
      "0   0.021798 -0.666440     -0.394405           -0.125951   \n",
      "1   0.005640 -0.666440     -0.394405           -0.125951   \n",
      "2  -0.041219 -0.666440     -0.394405           -0.125951   \n",
      "3   0.005640 -0.666440     -0.394405            7.939587   \n",
      "4   0.005640 -0.666440     -0.394405            7.939587   \n",
      "..       ...       ...           ...                 ...   \n",
      "60  0.000792  1.500509      2.535463           -0.125951   \n",
      "61  0.049266 -0.666440     -0.394405            7.939587   \n",
      "62  0.034724 -0.666440     -0.394405           -0.125951   \n",
      "63  0.029877 -0.666440     -0.394405           -0.125951   \n",
      "64 -0.049298  1.500509      2.535463           -0.125951   \n",
      "\n",
      "    on_antithyroid_medication      sick  pregnant  thyroid_surgery  \\\n",
      "0                    -0.11547 -0.199609 -0.106803        -0.120509   \n",
      "1                    -0.11547  5.009802 -0.106803        -0.120509   \n",
      "2                    -0.11547 -0.199609  9.363048        -0.120509   \n",
      "3                    -0.11547 -0.199609 -0.106803        -0.120509   \n",
      "4                    -0.11547  5.009802 -0.106803        -0.120509   \n",
      "..                        ...       ...       ...              ...   \n",
      "60                   -0.11547 -0.199609 -0.106803        -0.120509   \n",
      "61                   -0.11547 -0.199609 -0.106803        -0.120509   \n",
      "62                   -0.11547 -0.199609 -0.106803        -0.120509   \n",
      "63                   -0.11547 -0.199609 -0.106803        -0.120509   \n",
      "64                   -0.11547 -0.199609 -0.106803        -0.120509   \n",
      "\n",
      "    I131_treatment  query_hypothyroid  ...     tumor  hypopituitary     psych  \\\n",
      "0        -0.130609          -0.258756  ... -0.161594      -0.012026 -0.228787   \n",
      "1        -0.130609          -0.258756  ... -0.161594      -0.012026 -0.228787   \n",
      "2        -0.130609          -0.258756  ... -0.161594      -0.012026 -0.228787   \n",
      "3        -0.130609          -0.258756  ...  6.188332      -0.012026 -0.228787   \n",
      "4        -0.130609          -0.258756  ... -0.161594      -0.012026 -0.228787   \n",
      "..             ...                ...  ...       ...            ...       ...   \n",
      "60        7.656415          -0.258756  ... -0.161594      -0.012026 -0.228787   \n",
      "61       -0.130609          -0.258756  ... -0.161594      -0.012026 -0.228787   \n",
      "62       -0.130609          -0.258756  ... -0.161594      -0.012026 -0.228787   \n",
      "63       -0.130609          -0.258756  ... -0.161594      -0.012026 -0.228787   \n",
      "64       -0.130609           3.864645  ... -0.161594      -0.012026 -0.228787   \n",
      "\n",
      "          TSH  T3_measured  TT4_measured  T4U_measured  FTI_measured  \\\n",
      "0    1.096135     0.441688      0.351048      0.817812      0.031674   \n",
      "1    1.452103     0.441688     -0.123711     -2.600027     -1.729638   \n",
      "2   -0.114155     2.131535      2.012704      2.262924      0.431477   \n",
      "3   -0.114151     0.610673      1.814887      0.227970     -1.727578   \n",
      "4   -0.114142    -0.234250     -1.862317     -0.184920      0.704069   \n",
      "..        ...          ...           ...           ...           ...   \n",
      "60  -0.114154     0.948642      1.201657     -2.601207      2.285107   \n",
      "61  -0.114154     0.610673      2.151175     -2.600617      2.339625   \n",
      "62  35.055492    -0.572220     -1.627114      1.496130     -1.567536   \n",
      "63  13.483825    -0.318743     -1.765585      0.434414     -1.731004   \n",
      "64  -0.114143     0.441688      1.043404      0.227970     -1.728315   \n",
      "\n",
      "    Outlier_label _n  Outlier_label _o  \n",
      "0          -5.163720          5.163720  \n",
      "1          -5.163720          5.163720  \n",
      "2           0.193659         -0.193659  \n",
      "3           0.193659         -0.193659  \n",
      "4           0.193659         -0.193659  \n",
      "..               ...               ...  \n",
      "60          0.193659         -0.193659  \n",
      "61          0.193659         -0.193659  \n",
      "62         -5.163720          5.163720  \n",
      "63         -5.163720          5.163720  \n",
      "64          0.193659         -0.193659  \n",
      "\n",
      "[65 rows x 23 columns]\n"
     ]
    }
   ],
   "source": [
    "anomalies = model.predict(X_test)\n",
    "\n",
    "# Get the indices of anomalous data points\n",
    "anomaly_indices = np.where(anomalies == -1)[0]\n",
    "\n",
    "# Access and print the anomalous data points\n",
    "anomalous_data = X_test[anomaly_indices]\n",
    "\n",
    "# Convert the anomalous data to a DataFrame for better readability\n",
    "anomalous_data_df = pd.DataFrame(anomalous_data, columns=data.columns)\n",
    "\n",
    "# Print the anomalous data\n",
    "print(\"Anomalous Data:\")\n",
    "print(anomalous_data_df)"
   ]
  },
  {
   "cell_type": "code",
   "execution_count": null,
   "id": "c03771e7",
   "metadata": {},
   "outputs": [],
   "source": []
  }
 ],
 "metadata": {
  "kernelspec": {
   "display_name": "Python 3 (ipykernel)",
   "language": "python",
   "name": "python3"
  },
  "language_info": {
   "codemirror_mode": {
    "name": "ipython",
    "version": 3
   },
   "file_extension": ".py",
   "mimetype": "text/x-python",
   "name": "python",
   "nbconvert_exporter": "python",
   "pygments_lexer": "ipython3",
   "version": "3.10.9"
  }
 },
 "nbformat": 4,
 "nbformat_minor": 5
}
