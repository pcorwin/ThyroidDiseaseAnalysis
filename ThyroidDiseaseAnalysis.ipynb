{
 "cells": [
  {
   "cell_type": "markdown",
   "id": "a33fd3b1",
   "metadata": {},
   "source": [
    "# Thyroid Disease Analysis"
   ]
  },
  {
   "cell_type": "code",
   "execution_count": 49,
   "id": "a1f77301",
   "metadata": {},
   "outputs": [],
   "source": [
    "import pandas as pd"
   ]
  },
  {
   "cell_type": "code",
   "execution_count": 50,
   "id": "5420bb89",
   "metadata": {
    "scrolled": true
   },
   "outputs": [
    {
     "name": "stdout",
     "output_type": "stream",
     "text": [
      "<bound method NDFrame.keys of        Age  Sex  on_thyroxine  query_on_thyroxine  on_antithyroid_medication  \\\n",
      "0     0.45    1             0                   0                          0   \n",
      "1     0.61    0             0                   0                          0   \n",
      "2     0.16    0             1                   0                          0   \n",
      "3     0.85    0             0                   0                          0   \n",
      "4     0.75    1             0                   0                          0   \n",
      "...    ...  ...           ...                 ...                        ...   \n",
      "6911  0.65    0             1                   0                          0   \n",
      "6912  0.77    0             0                   0                          0   \n",
      "6913  0.41    0             0                   0                          0   \n",
      "6914  0.64    1             0                   0                          0   \n",
      "6915  0.46    0             0                   0                          0   \n",
      "\n",
      "      sick  pregnant  thyroid_surgery  I131_treatment  query_hypothyroid  ...  \\\n",
      "0        0         0                0               0                  0  ...   \n",
      "1        1         0                0               0                  0  ...   \n",
      "2        0         0                0               0                  0  ...   \n",
      "3        0         0                0               0                  0  ...   \n",
      "4        0         0                0               0                  0  ...   \n",
      "...    ...       ...              ...             ...                ...  ...   \n",
      "6911     0         0                0               0                  0  ...   \n",
      "6912     0         0                0               0                  0  ...   \n",
      "6913     0         0                0               0                  0  ...   \n",
      "6914     0         0                0               0                  0  ...   \n",
      "6915     0         0                0               0                  0  ...   \n",
      "\n",
      "      goitre  tumor  hypopituitary  psych        TSH  T3_measured  \\\n",
      "0          0      0              0      0   61.00000       6.0000   \n",
      "1          0      0              0      0   29.00000      15.0000   \n",
      "2          0      1              0      0   29.00000      19.0000   \n",
      "3          0      0              0      0  114.00000       3.0000   \n",
      "4          0      0              0      0   49.00000       3.0000   \n",
      "...      ...    ...            ...    ...        ...          ...   \n",
      "6911       0      0              0      0    0.00047       8.0000   \n",
      "6912       0      0              0      0    0.00006       0.0206   \n",
      "6913       0      0              0      0    0.00130      25.0000   \n",
      "6914       0      0              0      0    0.00078       0.0206   \n",
      "6915       0      0              0      0    0.00189       0.0206   \n",
      "\n",
      "      TT4_measured  T4U_measured  FTI_measured  Outlier_label   \n",
      "0             23.0          87.0          26.0               o  \n",
      "1             61.0          96.0          64.0               o  \n",
      "2             58.0         103.0          56.0               o  \n",
      "3             24.0          61.0          39.0               o  \n",
      "4              5.0         116.0           4.0               o  \n",
      "...            ...           ...           ...             ...  \n",
      "6911         154.0          75.0         204.0               n  \n",
      "6912         125.0         107.0         117.0               n  \n",
      "6913         125.0         114.0         109.0               n  \n",
      "6914         106.0          88.0         121.0               n  \n",
      "6915          93.0          91.0         102.0               n  \n",
      "\n",
      "[6916 rows x 22 columns]>\n"
     ]
    }
   ],
   "source": [
    "df = pd.read_csv(\"Data\\\\thyroid_dataset.csv\")"
   ]
  },
  {
   "cell_type": "code",
   "execution_count": 51,
   "id": "cd221073",
   "metadata": {},
   "outputs": [],
   "source": [
    "df['Age'] = df['Age'].transform(lambda x:x * 100)\n",
    "df['Sex'] = df['Sex'].replace([0.0, 1.0], ['M', 'F'])"
   ]
  },
  {
   "cell_type": "code",
   "execution_count": null,
   "id": "6d17555b",
   "metadata": {},
   "outputs": [],
   "source": []
  },
  {
   "cell_type": "code",
   "execution_count": null,
   "id": "7d708935",
   "metadata": {},
   "outputs": [],
   "source": []
  },
  {
   "cell_type": "code",
   "execution_count": null,
   "id": "0b57c854",
   "metadata": {},
   "outputs": [],
   "source": []
  }
 ],
 "metadata": {
  "kernelspec": {
   "display_name": "Python 3 (ipykernel)",
   "language": "python",
   "name": "python3"
  },
  "language_info": {
   "codemirror_mode": {
    "name": "ipython",
    "version": 3
   },
   "file_extension": ".py",
   "mimetype": "text/x-python",
   "name": "python",
   "nbconvert_exporter": "python",
   "pygments_lexer": "ipython3",
   "version": "3.10.9"
  }
 },
 "nbformat": 4,
 "nbformat_minor": 5
}
